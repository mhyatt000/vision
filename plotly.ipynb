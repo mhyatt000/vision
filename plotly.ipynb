{
 "cells": [
  {
   "cell_type": "code",
   "execution_count": 3,
   "id": "af22f688-40d8-42db-8d91-aa6cf2a1cd14",
   "metadata": {},
   "outputs": [],
   "source": [
    "import torch\n",
    "from torch.nn import functional as F\n",
    "import plotly.express as px\n",
    "import plotly.graph_objects as go\n",
    "from plotly.subplots import make_subplots\n",
    "import numpy as np\n"
   ]
  },
  {
   "cell_type": "code",
   "execution_count": 4,
   "id": "4fb90f35-b34a-411d-836d-3a9c5381bd2e",
   "metadata": {},
   "outputs": [],
   "source": [
    "yh=torch.randn((64,3))\n",
    "yh = F.normalize(yh)\n",
    "\n",
    "NCLASSES=5\n",
    "color=torch.randint(NCLASSES,size=(1,64)).view(-1)\n",
    "\n",
    "labels=['real','cyclegan','ddpm','pix2pix','stylegan2ada']\n",
    "labels=[labels[x] for x in color]\n"
   ]
  },
  {
   "cell_type": "code",
   "execution_count": 5,
   "id": "ad958920-5f77-4436-926f-64a595f978b8",
   "metadata": {},
   "outputs": [
    {
     "data": {
      "text/plain": [
       "tensor([0, 2, 4, 1, 0, 4, 2, 1, 4, 2, 1, 0, 3, 4, 3, 1, 4, 4, 3, 4, 3, 1, 4, 4,\n",
       "        0, 4, 3, 2, 4, 3, 1, 4, 0, 0, 4, 3, 0, 2, 0, 4, 0, 1, 0, 2, 0, 1, 3, 0,\n",
       "        2, 1, 4, 3, 2, 1, 4, 3, 1, 2, 1, 3, 1, 1, 4, 0])"
      ]
     },
     "execution_count": 5,
     "metadata": {},
     "output_type": "execute_result"
    }
   ],
   "source": [
    "# help(px.scatter_3d)\n",
    "color"
   ]
  },
  {
   "cell_type": "code",
   "execution_count": 12,
   "id": "bdb0d1ab-7f45-440d-b49d-430a6384cd91",
   "metadata": {},
   "outputs": [],
   "source": [
    "def ms(x, y, z, radius, resolution=20):\n",
    "    \"\"\"Return the coordinates for plotting a sphere centered at (x,y,z)\"\"\"\n",
    "    u, v = np.mgrid[0:2*np.pi:resolution*2j, 0:np.pi:resolution*1j]\n",
    "    X = radius * np.cos(u)*np.sin(v) + x\n",
    "    Y = radius * np.sin(u)*np.sin(v) + y\n",
    "    Z = radius * np.cos(v) + z\n",
    "    return (X, Y, Z)\n",
    "\n",
    "data = []\n",
    "(x_pns_surface, y_pns_surface, z_pns_suraface) = ms(0,0,0,1)\n",
    "data.append(go.Surface(x=x_pns_surface, y=y_pns_surface, z=z_pns_suraface, colorscale ='Greys', opacity=0.5))\n",
    "# data.append(go.Scatter3d(x=yh[:,0], y=yh[:,1], z=yh[:,2], color=labels, symbol=labels))\n",
    "data.append(go.Scatter3d(x=yh[:,0], y=yh[:,1], z=yh[:,2], ids=labels))\n",
    "fig = go.Figure(data=data)\n",
    "fig.write_html(\"file.html\")\n"
   ]
  },
  {
   "cell_type": "code",
   "execution_count": 2,
   "id": "b3eff12c-5a8a-4cda-834a-6d8290c63b79",
   "metadata": {},
   "outputs": [
    {
     "ename": "NameError",
     "evalue": "name 'px' is not defined",
     "output_type": "error",
     "traceback": [
      "\u001b[0;31m---------------------------------------------------------------------------\u001b[0m",
      "\u001b[0;31mNameError\u001b[0m                                 Traceback (most recent call last)",
      "Cell \u001b[0;32mIn[2], line 3\u001b[0m\n\u001b[1;32m      1\u001b[0m \u001b[38;5;66;03m# fig = make_subplots(rows=1, cols=1, specs=[[{'is_3d': True}]])\u001b[39;00m\n\u001b[0;32m----> 3\u001b[0m fig \u001b[38;5;241m=\u001b[39m \u001b[43mpx\u001b[49m\u001b[38;5;241m.\u001b[39mscatter_3d(x\u001b[38;5;241m=\u001b[39myh[:,\u001b[38;5;241m0\u001b[39m], y\u001b[38;5;241m=\u001b[39myh[:,\u001b[38;5;241m1\u001b[39m], z\u001b[38;5;241m=\u001b[39myh[:,\u001b[38;5;241m2\u001b[39m], color\u001b[38;5;241m=\u001b[39mlabels, symbol\u001b[38;5;241m=\u001b[39mlabels)\n\u001b[1;32m      4\u001b[0m \u001b[38;5;66;03m# fig.add_trace(go.Surface(x=yh[:,0], y=yh[:,1], z=yh[:,2], opacity=0.8, surfacecolor=(120,120,120)),1,1)\u001b[39;00m\n\u001b[1;32m      5\u001b[0m fig\u001b[38;5;241m.\u001b[39mwrite_html(\u001b[38;5;124m\"\u001b[39m\u001b[38;5;124mfile.html\u001b[39m\u001b[38;5;124m\"\u001b[39m)\n",
      "\u001b[0;31mNameError\u001b[0m: name 'px' is not defined"
     ]
    }
   ],
   "source": [
    "# fig = make_subplots(rows=1, cols=1, specs=[[{'is_3d': True}]])\n",
    "\n",
    "# fig.add_trace(go.Surface(x=yh[:,0], y=yh[:,1], z=yh[:,2], opacity=0.8, surfacecolor=(120,120,120)),1,1)\n",
    "fig.write_html(\"file.html\")\n"
   ]
  },
  {
   "cell_type": "code",
   "execution_count": null,
   "id": "330e9cb5-a89e-4d7e-9e39-10f050228dd5",
   "metadata": {},
   "outputs": [],
   "source": []
  },
  {
   "cell_type": "code",
   "execution_count": 52,
   "id": "c6df12d7-1822-471d-8545-f9400cd7f37b",
   "metadata": {},
   "outputs": [
    {
     "name": "stdout",
     "output_type": "stream",
     "text": [
      "Help on method add_trace in module plotly.graph_objs._figure:\n",
      "\n",
      "add_trace(trace, row=None, col=None, secondary_y=None, exclude_empty_subplots=False) -> 'Figure' method of plotly.graph_objs._figure.Figure instance\n",
      "    Add a trace to the figure\n",
      "    \n",
      "    Parameters\n",
      "    ----------\n",
      "    trace : BaseTraceType or dict\n",
      "        Either:\n",
      "          - An instances of a trace classe from the plotly.graph_objs\n",
      "            package (e.g plotly.graph_objs.Scatter, plotly.graph_objs.Bar)\n",
      "          - or a dicts where:\n",
      "    \n",
      "              - The 'type' property specifies the trace type (e.g.\n",
      "                'scatter', 'bar', 'area', etc.). If the dict has no 'type'\n",
      "                property then 'scatter' is assumed.\n",
      "              - All remaining properties are passed to the constructor\n",
      "                of the specified trace type.\n",
      "    \n",
      "    row : 'all', int or None (default)\n",
      "        Subplot row index (starting from 1) for the trace to be\n",
      "        added. Only valid if figure was created using\n",
      "        `plotly.tools.make_subplots`.\n",
      "        If 'all', addresses all rows in the specified column(s).\n",
      "    col : 'all', int or None (default)\n",
      "        Subplot col index (starting from 1) for the trace to be\n",
      "        added. Only valid if figure was created using\n",
      "        `plotly.tools.make_subplots`.\n",
      "        If 'all', addresses all columns in the specified row(s).\n",
      "    secondary_y: boolean or None (default None)\n",
      "        If True, associate this trace with the secondary y-axis of the\n",
      "        subplot at the specified row and col. Only valid if all of the\n",
      "        following conditions are satisfied:\n",
      "          * The figure was created using `plotly.subplots.make_subplots`.\n",
      "          * The row and col arguments are not None\n",
      "          * The subplot at the specified row and col has type xy\n",
      "            (which is the default) and secondary_y True.  These\n",
      "            properties are specified in the specs argument to\n",
      "            make_subplots. See the make_subplots docstring for more info.\n",
      "          * The trace argument is a 2D cartesian trace\n",
      "            (scatter, bar, etc.)\n",
      "    exclude_empty_subplots: boolean\n",
      "        If True, the trace will not be added to subplots that don't already\n",
      "        have traces.\n",
      "    Returns\n",
      "    -------\n",
      "    BaseFigure\n",
      "        The Figure that add_trace was called on\n",
      "    \n",
      "    Examples\n",
      "    --------\n",
      "    \n",
      "    >>> from plotly import subplots\n",
      "    >>> import plotly.graph_objs as go\n",
      "    \n",
      "    Add two Scatter traces to a figure\n",
      "    \n",
      "    >>> fig = go.Figure()\n",
      "    >>> fig.add_trace(go.Scatter(x=[1,2,3], y=[2,1,2])) # doctest: +ELLIPSIS\n",
      "    Figure(...)\n",
      "    >>> fig.add_trace(go.Scatter(x=[1,2,3], y=[2,1,2])) # doctest: +ELLIPSIS\n",
      "    Figure(...)\n",
      "    \n",
      "    \n",
      "    Add two Scatter traces to vertically stacked subplots\n",
      "    \n",
      "    >>> fig = subplots.make_subplots(rows=2)\n",
      "    >>> fig.add_trace(go.Scatter(x=[1,2,3], y=[2,1,2]), row=1, col=1) # doctest: +ELLIPSIS\n",
      "    Figure(...)\n",
      "    >>> fig.add_trace(go.Scatter(x=[1,2,3], y=[2,1,2]), row=2, col=1) # doctest: +ELLIPSIS\n",
      "    Figure(...)\n",
      "\n"
     ]
    }
   ],
   "source": [
    "help(fig.add_trace)"
   ]
  },
  {
   "cell_type": "code",
   "execution_count": null,
   "id": "029830c9-04ae-4018-aed5-2899e98b8600",
   "metadata": {},
   "outputs": [],
   "source": []
  }
 ],
 "metadata": {
  "kernelspec": {
   "display_name": "datascience/conda-2023-01-10",
   "language": "python",
   "name": "conda-2023-01-10"
  },
  "language_info": {
   "codemirror_mode": {
    "name": "ipython",
    "version": 3
   },
   "file_extension": ".py",
   "mimetype": "text/x-python",
   "name": "python",
   "nbconvert_exporter": "python",
   "pygments_lexer": "ipython3",
   "version": "3.10.9"
  }
 },
 "nbformat": 4,
 "nbformat_minor": 5
}
